{
 "cells": [
  {
   "cell_type": "markdown",
   "metadata": {},
   "source": [
    "# Enron POI Detection Project\n",
    "\n",
    "### Background\n",
    "\n",
    "At the end of 2001, it was revealed that Enron's reported financial condition was sustained by institutionalized, systematic, and creatively planned accounting fraud, which has since become a well-known example of willful corporate fraud and corruption. When Enron declared bankruptcy on December 2, 2001, for the majority of 20,000 staff, this was the end of their livelihood. However for a very few people who had insider knowledge of these fraudulent practices, they managed to profit before the downfall of the company. \n",
    "\n",
    "The purpose of this project is to identify such persons of interest (POI) using both email and financial data. In the process of identifying these POIs, we will be applying machine learning techniques broken down into five major steps:\n",
    "\n",
    "1. Data Exploration\n",
    "2. Feature Creation & Selection\n",
    "3. Algorithm Selection\n",
    "4. Fine Tuning\n",
    "5. Cross validation"
   ]
  },
  {
   "cell_type": "markdown",
   "metadata": {},
   "source": [
    "### Data Exploration\n",
    "\n",
    "The first step was to load the dataset and understand the structure of the data and features available. "
   ]
  },
  {
   "cell_type": "code",
   "execution_count": 20,
   "metadata": {},
   "outputs": [
    {
     "name": "stdout",
     "output_type": "stream",
     "text": [
      "Number of persons:  146\n",
      "Number of POI:  18\n",
      "Number of features per person:  21\n"
     ]
    }
   ],
   "source": [
    "import pickle\n",
    "\n",
    "### load the dictionary containing the dataset\n",
    "data_dict = pickle.load(open(\"final_project_dataset.pkl\", \"r\"))\n",
    "\n",
    "poi_count = 0\n",
    "\n",
    "print \"Number of persons: \", len(data_dict.keys())\n",
    "for person in data_dict.keys():\n",
    "    if data_dict[person][\"poi\"]:\n",
    "        poi_count += 1\n",
    "print \"Number of POI: \", poi_count\n",
    "print \"Number of features per person: \", len(data_dict[data_dict.keys()[0]])"
   ]
  },
  {
   "cell_type": "markdown",
   "metadata": {},
   "source": [
    "The key callouts from the query above is that the dataset contains 146 entities (i.e. persons), of which 18 have been identified as persons of interest (POI), and for each person, 21 attributes are provided. Of the 21 attributes, there are three major categories of features: financial (e.g. salary, bonus), email (e.g. to_messages, from_messages), and person of interest label (i.e. poi). It should be noted that for some individuals, some of the attribute values are \"NaN\" (i.e. not available). A summary of the number of \"NaN\" values by feature are provided below:"
   ]
  },
  {
   "cell_type": "code",
   "execution_count": 2,
   "metadata": {},
   "outputs": [
    {
     "name": "stdout",
     "output_type": "stream",
     "text": [
      "FEATURE                    # MISSING VALUES\n",
      "-------------------------------------------\n",
      "salary                            51\n",
      "to_messages                       60\n",
      "deferral_payments                 107\n",
      "total_payments                    21\n",
      "exercised_stock_options           44\n",
      "bonus                             64\n",
      "restricted_stock                  36\n",
      "shared_receipt_with_poi           60\n",
      "restricted_stock_deferred         128\n",
      "total_stock_value                 20\n",
      "expenses                          51\n",
      "loan_advances                     142\n",
      "from_messages                     60\n",
      "other                             53\n",
      "from_this_person_to_poi           60\n",
      "poi                               0\n",
      "director_fees                     129\n",
      "deferred_income                   97\n",
      "long_term_incentive               80\n",
      "email_address                     35\n",
      "from_poi_to_this_person           60\n"
     ]
    }
   ],
   "source": [
    "print \"FEATURE\", \" \"*(25-len(\"FEATURE\")), \"# MISSING VALUES\" \n",
    "print \"-------------------------------------------\"\n",
    "for feature in data_dict[data_dict.keys()[0]]:\n",
    "    count = 0\n",
    "    for person in data_dict.iteritems():\n",
    "        if person[1][feature] == \"NaN\":\n",
    "            count += 1\n",
    "    print feature, \" \"*(32-len(feature)), count"
   ]
  },
  {
   "cell_type": "markdown",
   "metadata": {},
   "source": [
    "It would appear from the results above that loan_advances, director_fees and restricted_stock_deferred would be poor features to use in identifying POIs as the majority of individuals in the dataset do not have any information for these features. \n",
    "\n",
    "Next was to identify and remove any outliers:"
   ]
  },
  {
   "cell_type": "code",
   "execution_count": 3,
   "metadata": {},
   "outputs": [
    {
     "data": {
      "image/png": "[encoded data removed]",
      "text/plain": [
       "<matplotlib.figure.Figure at 0x632d198>"
      ]
     },
     "metadata": {},
     "output_type": "display_data"
    }
   ],
   "source": [
    "import matplotlib.pyplot as plt\n",
    "from feature_format import featureFormat, targetFeatureSplit\n",
    "\n",
    "features = [\"salary\", \"bonus\"]\n",
    "data = featureFormat(data_dict, features)\n",
    "\n",
    "for point in data:\n",
    "    salary = point[0]\n",
    "    bonus = point[1]\n",
    "    plt.scatter( salary, bonus, color = \"b\" )\n",
    "\n",
    "plt.xlabel(\"salary\")\n",
    "plt.ylabel(\"bonus\")\n",
    "plt.show()"
   ]
  },
  {
   "cell_type": "code",
   "execution_count": 4,
   "metadata": {},
   "outputs": [
    {
     "name": "stdout",
     "output_type": "stream",
     "text": [
      "NAME                       SALARY\n",
      "------------------------------------\n",
      "TOTAL                      26704229\n",
      "SKILLING JEFFREY K         1111258\n",
      "LAY KENNETH L              1072321\n",
      "FREVERT MARK A             1060932\n",
      "PICKERING MARK R           655037\n"
     ]
    }
   ],
   "source": [
    "data_dict_salary = []\n",
    "for person in data_dict:\n",
    "    value = data_dict[person]['salary']\n",
    "    if value != 'NaN':\n",
    "        data_dict_salary.append((person, int(value)))\n",
    "\n",
    "# prints top 5 outliers based on salary\n",
    "outliers = (sorted(data_dict_salary,key=lambda x:x[1],reverse=True)[:5])\n",
    "print \"NAME\", \" \"*(25-len(\"NAME\")), \"SALARY\"\n",
    "print \"------------------------------------\"\n",
    "for name, salary in outliers:\n",
    "    print name, \" \"*(25-len(name)), salary"
   ]
  },
  {
   "cell_type": "markdown",
   "metadata": {},
   "source": [
    "The main outlier was found to be \"TOTAL\", which is the sum of all the salaries. Another data point that did not make sense to keep was \"THE TRAVEL AGENCY IN THE PARK\". The following code was run to remove these two data point and replot the salary versus bonus graph: "
   ]
  },
  {
   "cell_type": "code",
   "execution_count": 5,
   "metadata": {},
   "outputs": [
    {
     "data": {
      "image/png": "[encoded data removed]",
      "text/plain": [
       "<matplotlib.figure.Figure at 0x7949278>"
      ]
     },
     "metadata": {},
     "output_type": "display_data"
    }
   ],
   "source": [
    "data_dict.pop('TOTAL', 0)\n",
    "data_dict.pop('THE TRAVEL AGENCY IN THE PARK', 0)\n",
    "\n",
    "features = [\"salary\", \"bonus\", \"poi\"]\n",
    "data = featureFormat(data_dict, features)\n",
    "\n",
    "for point in data:\n",
    "    salary = point[0]\n",
    "    bonus = point[1]\n",
    "    # marking POI as red and non-POI as blue\n",
    "    if point[2] ==  1:\n",
    "        poi = plt.scatter( salary, bonus, color = \"r\" )\n",
    "    else:\n",
    "        non_poi = plt.scatter( salary, bonus, color = \"b\" )\n",
    "\n",
    "plt.xlabel(\"salary\")\n",
    "plt.ylabel(\"bonus\")\n",
    "plt.legend((poi, non_poi),\n",
    "           ('POI', 'Non-POI'),\n",
    "           scatterpoints=1,\n",
    "           loc='upper right',\n",
    "           ncol=3,\n",
    "           fontsize=8)\n",
    "plt.show()"
   ]
  },
  {
   "cell_type": "markdown",
   "metadata": {},
   "source": [
    "### Feature Creation & Selection\n",
    "\n",
    "From the start it was clear that \"email_address\" and \"other\" did not need to be considered in the feature selection process as a person's \"email_address\" would have little influence whether or not they would be considered a person of interest and \"other\" was too vague to be considered meaningful for our analysis. \n",
    "\n",
    "Additionally, it would be reasonable to conclude that the \"from_poi_to_this_person\" and \"from_this_person_to_poi\" values would not be as clear an indicator of a person's POI status as the proportion of total email messages sent to and from this person to a POI. Therefore the following two features were created: \n",
    "1. from_poi_to_this_person_ratio  \n",
    "2. from_this_person_to_poi_ratio"
   ]
  },
  {
   "cell_type": "code",
   "execution_count": 6,
   "metadata": {},
   "outputs": [
    {
     "data": {
      "image/png": "[encoded data removed]",
      "text/plain": [
       "<matplotlib.figure.Figure at 0x82d9b70>"
      ]
     },
     "metadata": {},
     "output_type": "display_data"
    }
   ],
   "source": [
    "for person in data_dict:\n",
    "    data_dict[person][\"from_this_person_to_poi_ratio\"]=0\n",
    "    data_dict[person][\"from_poi_to_this_person_ratio\"]=0\n",
    "    \n",
    "    to_messages = float(data_dict[person][\"to_messages\"])\n",
    "    from_messages = float(data_dict[person][\"from_messages\"])\n",
    "    from_poi_to_this_person = float(data_dict[person][\"from_poi_to_this_person\"])\n",
    "    from_this_person_to_poi = float(data_dict[person][\"from_this_person_to_poi\"])\n",
    "    \n",
    "    if from_messages > 0 and from_this_person_to_poi != \"NaN\":\n",
    "        data_dict[person][\"from_this_person_to_poi_ratio\"] = from_this_person_to_poi/from_messages\n",
    "    if to_messages > 0 and from_poi_to_this_person != \"NaN\":\n",
    "        data_dict[person][\"from_poi_to_this_person_ratio\"] = from_poi_to_this_person/to_messages\n",
    "\n",
    "features = [\"from_this_person_to_poi_ratio\", \"from_poi_to_this_person_ratio\", \"poi\"]\n",
    "data = featureFormat(data_dict, features)\n",
    "\n",
    "for point in data:\n",
    "    from_this_person_to_poi_ratio = point[0]\n",
    "    from_poi_to_this_person_ratio = point[1]\n",
    "    # marking POI as red and non-POI as blue\n",
    "    if point[2] ==  1:\n",
    "        poi = plt.scatter( from_poi_to_this_person_ratio, from_this_person_to_poi_ratio, color = \"r\")\n",
    "    else:\n",
    "        non_poi = plt.scatter( from_poi_to_this_person_ratio, from_this_person_to_poi_ratio, color = \"b\")\n",
    "\n",
    "plt.xlabel(\"Ratio of emails received from POI\")\n",
    "plt.ylabel(\"Ratio of emails sent to POI\")\n",
    "plt.legend((poi, non_poi),\n",
    "           ('POI', 'Non-POI'),\n",
    "           scatterpoints=1,\n",
    "           loc='upper right',\n",
    "           ncol=3,\n",
    "           fontsize=8)\n",
    "plt.show()"
   ]
  },
  {
   "cell_type": "markdown",
   "metadata": {},
   "source": [
    "To identify the most influential features, the SelectKBest module was utilized in tandem with the MinMaxScalar to ensure features were weighted equally. The initial feature list used for the feature selection process is as per below. Do note the to_messages, from_messages, from_poi_to_this_person and from_this_person_to_poi features were removed as their value is captured by the newly created features, from_this_person_to_poi_ratio and from_poi_to_this_person_ratio:\n",
    "\n",
    "features_list = ['poi', 'salary', 'deferral_payments', 'total_payments', 'loan_advances',\n",
    "                 'bonus', 'restricted_stock_deferred', 'deferred_income', 'total_stock_value',\n",
    "                 'expenses', 'exercised_stock_options', 'long_term_incentive',\n",
    "                 'restricted_stock', 'director_fees', 'shared_receipt_with_poi', 'from_this_person_to_poi_ratio',                            'from_poi_to_this_person_ratio']"
   ]
  },
  {
   "cell_type": "code",
   "execution_count": 7,
   "metadata": {},
   "outputs": [
    {
     "name": "stdout",
     "output_type": "stream",
     "text": [
      "FEATURE                        KBEST SCORE\n",
      "----------------------------------------------\n",
      "exercised_stock_options           24.82\n",
      "total_stock_value                 24.18\n",
      "bonus                             20.79\n",
      "salary                            18.29\n",
      "from_this_person_to_poi_ratio     16.41\n",
      "deferred_income                   11.46\n",
      "long_term_incentive               9.92\n",
      "restricted_stock                  9.21\n",
      "total_payments                    8.77\n",
      "shared_receipt_with_poi           8.59\n",
      "loan_advances                     7.18\n",
      "expenses                          6.09\n",
      "from_poi_to_this_person_ratio     3.13\n",
      "director_fees                     2.13\n",
      "deferral_payments                 0.22\n",
      "restricted_stock_deferred         0.07\n"
     ]
    }
   ],
   "source": [
    "from sklearn.preprocessing import MinMaxScaler\n",
    "from sklearn.feature_selection import SelectKBest\n",
    "\n",
    "features_list = ['poi', 'salary', 'deferral_payments', 'total_payments', 'loan_advances',\n",
    "                 'bonus', 'restricted_stock_deferred', 'deferred_income', 'total_stock_value',\n",
    "                 'expenses', 'exercised_stock_options', 'long_term_incentive',\n",
    "                 'restricted_stock', 'director_fees', 'shared_receipt_with_poi', 'from_this_person_to_poi_ratio',\n",
    "                 'from_poi_to_this_person_ratio']\n",
    "\n",
    "data = featureFormat(data_dict, features_list, sort_keys = True)\n",
    "labels, features = targetFeatureSplit(data)\n",
    "\n",
    "# Scale features via min-max\n",
    "scaler = MinMaxScaler()\n",
    "features = scaler.fit_transform(features)\n",
    "# feature selection\n",
    "selection = SelectKBest()\n",
    "selection.fit(features, labels)\n",
    "\n",
    "results = zip(features_list[1:], selection.scores_)\n",
    "results = sorted(results, key=lambda x: x[1], reverse=True)\n",
    "print \"FEATURE\", \" \"*(29-len(\"FEATURE\")), \"KBEST SCORE\"\n",
    "print \"----------------------------------------------\"\n",
    "for feature, score in results:\n",
    "    print feature, \" \"*(32-len(feature)), round(score,2) "
   ]
  },
  {
   "cell_type": "markdown",
   "metadata": {},
   "source": [
    "From the SelectKBest module, the top 5 features to identify a person of interest is as such:\n",
    "1. Exercised stock options\n",
    "2. Total stock value\n",
    "3. Bonus\n",
    "4. Salary\n",
    "5. Ratio of email messages sent from this person to a POI\n",
    "\n",
    "The next question to tackle was to determine the optimum number of features that should be used as well as the algorithm that would produce the best precision and recall values."
   ]
  },
  {
   "cell_type": "markdown",
   "metadata": {},
   "source": [
    "### Algorithm Selection\n",
    "\n",
    "Four algorithms, GaussianNB, RandomForestClassifer, AdaBoostClassifier, and KNeighborsClassifier, were selected to compare against each other based on accuracy, precision, recall, and F1 score. For each algorithm, the number of features used to train and test the classifier were varied so as to ascertain the optimum number of features. \n",
    "\n",
    "Based on the results from the feature selection process, the feature list was re-ordered to prioritize the features with the better K-best scores. Please refer to the re-ordered feature list below: \n",
    "\n",
    "features_list = ['poi', 'exercised_stock_options', 'total_stock_value', 'bonus', 'salary', 'from_this_person_to_poi_ratio',                  'deferred_income',  'long_term_incentive', 'restricted_stock', 'total_payments', 'shared_receipt_with_poi',                  'loan_advances', 'expenses', 'from_poi_to_this_person_ratio', 'director_fees', 'deferral_payments',\n",
    "                 'restricted_stock_deferred']"
   ]
  },
  {
   "cell_type": "code",
   "execution_count": 21,
   "metadata": {},
   "outputs": [
    {
     "name": "stdout",
     "output_type": "stream",
     "text": [
      "error: key  from_this_person_to_poi_ratio  not present\n"
     ]
    },
    {
     "ename": "TypeError",
     "evalue": "'NoneType' object is not iterable",
     "output_type": "error",
     "traceback": [
      "\u001b[1;31m---------------------------------------------------------------------------\u001b[0m",
      "\u001b[1;31mTypeError\u001b[0m                                 Traceback (most recent call last)",
      "\u001b[1;32m<ipython-input-21-d1bf9368fcb1>\u001b[0m in \u001b[0;36m<module>\u001b[1;34m()\u001b[0m\n\u001b[0;32m     44\u001b[0m         \u001b[0mclf_test\u001b[0m\u001b[1;33m,\u001b[0m \u001b[0mdataset_test\u001b[0m\u001b[1;33m,\u001b[0m \u001b[0mfeature_list_test\u001b[0m \u001b[1;33m=\u001b[0m \u001b[0mload_classifier_and_data\u001b[0m\u001b[1;33m(\u001b[0m\u001b[1;33m)\u001b[0m\u001b[1;33m\u001b[0m\u001b[0m\n\u001b[0;32m     45\u001b[0m \u001b[1;33m\u001b[0m\u001b[0m\n\u001b[1;32m---> 46\u001b[1;33m         \u001b[0maccuracy\u001b[0m\u001b[1;33m,\u001b[0m \u001b[0mprecision\u001b[0m\u001b[1;33m,\u001b[0m \u001b[0mrecall\u001b[0m\u001b[1;33m,\u001b[0m \u001b[0mf1\u001b[0m \u001b[1;33m=\u001b[0m \u001b[0mtest_classifier\u001b[0m\u001b[1;33m(\u001b[0m\u001b[0mclf_test\u001b[0m\u001b[1;33m,\u001b[0m \u001b[0mdataset_test\u001b[0m\u001b[1;33m,\u001b[0m \u001b[0mfeature_list_test\u001b[0m\u001b[1;33m,\u001b[0m \u001b[0mFalse\u001b[0m\u001b[1;33m)\u001b[0m\u001b[1;33m\u001b[0m\u001b[0m\n\u001b[0m\u001b[0;32m     47\u001b[0m         \u001b[0maccuracy_values\u001b[0m\u001b[1;33m[\u001b[0m\u001b[0mcount\u001b[0m\u001b[1;33m]\u001b[0m\u001b[1;33m.\u001b[0m\u001b[0mappend\u001b[0m\u001b[1;33m(\u001b[0m\u001b[0maccuracy\u001b[0m\u001b[1;33m)\u001b[0m\u001b[1;33m\u001b[0m\u001b[0m\n\u001b[0;32m     48\u001b[0m         \u001b[0mprecision_values\u001b[0m\u001b[1;33m[\u001b[0m\u001b[0mcount\u001b[0m\u001b[1;33m]\u001b[0m\u001b[1;33m.\u001b[0m\u001b[0mappend\u001b[0m\u001b[1;33m(\u001b[0m\u001b[0mprecision\u001b[0m\u001b[1;33m)\u001b[0m\u001b[1;33m\u001b[0m\u001b[0m\n",
      "\u001b[1;32mC:\\Users\\Darryl\\Desktop\\Udacity\\Data Analyst\\Projects\\Project 6\\tester.py\u001b[0m in \u001b[0;36mtest_classifier\u001b[1;34m(clf, dataset, feature_list, print_option, folds)\u001b[0m\n\u001b[0;32m     32\u001b[0m     \u001b[0mdata\u001b[0m \u001b[1;33m=\u001b[0m \u001b[0mfeatureFormat\u001b[0m\u001b[1;33m(\u001b[0m\u001b[0mdataset\u001b[0m\u001b[1;33m,\u001b[0m \u001b[0mfeature_list\u001b[0m\u001b[1;33m,\u001b[0m \u001b[0msort_keys\u001b[0m \u001b[1;33m=\u001b[0m \u001b[0mTrue\u001b[0m\u001b[1;33m)\u001b[0m\u001b[1;33m\u001b[0m\u001b[0m\n\u001b[0;32m     33\u001b[0m     \u001b[0mlabels\u001b[0m\u001b[1;33m,\u001b[0m \u001b[0mfeatures\u001b[0m \u001b[1;33m=\u001b[0m \u001b[0mtargetFeatureSplit\u001b[0m\u001b[1;33m(\u001b[0m\u001b[0mdata\u001b[0m\u001b[1;33m)\u001b[0m\u001b[1;33m\u001b[0m\u001b[0m\n\u001b[1;32m---> 34\u001b[1;33m     \u001b[0mcv\u001b[0m \u001b[1;33m=\u001b[0m \u001b[0mStratifiedShuffleSplit\u001b[0m\u001b[1;33m(\u001b[0m\u001b[0mlabels\u001b[0m\u001b[1;33m,\u001b[0m \u001b[0mfolds\u001b[0m\u001b[1;33m,\u001b[0m \u001b[0mrandom_state\u001b[0m \u001b[1;33m=\u001b[0m \u001b[1;36m42\u001b[0m\u001b[1;33m)\u001b[0m\u001b[1;33m\u001b[0m\u001b[0m\n\u001b[0m\u001b[0;32m     35\u001b[0m     \u001b[0mtrue_negatives\u001b[0m \u001b[1;33m=\u001b[0m \u001b[1;36m0\u001b[0m\u001b[1;33m\u001b[0m\u001b[0m\n\u001b[0;32m     36\u001b[0m     \u001b[0mfalse_negatives\u001b[0m \u001b[1;33m=\u001b[0m \u001b[1;36m0\u001b[0m\u001b[1;33m\u001b[0m\u001b[0m\n",
      "\u001b[1;32mC:\\Users\\Darryl\\Desktop\\Udacity\\Data Analyst\\Projects\\Project 6\\feature_format.pyc\u001b[0m in \u001b[0;36mtargetFeatureSplit\u001b[1;34m(data)\u001b[0m\n",
      "\u001b[1;31mTypeError\u001b[0m: 'NoneType' object is not iterable"
     ]
    }
   ],
   "source": [
    "from sklearn.cross_validation import train_test_split\n",
    "from sklearn.naive_bayes import GaussianNB\n",
    "from sklearn.ensemble import RandomForestClassifier\n",
    "from sklearn.neighbors import KNeighborsClassifier\n",
    "from sklearn.ensemble import AdaBoostClassifier\n",
    "from sklearn.metrics import *\n",
    "from tester import dump_classifier_and_data, load_classifier_and_data, test_classifier\n",
    "\n",
    "features_list = ['poi', 'exercised_stock_options', 'total_stock_value', 'bonus', 'salary', \n",
    "                 'from_this_person_to_poi_ratio', 'deferred_income',  'long_term_incentive', \n",
    "                 'restricted_stock', 'total_payments', 'shared_receipt_with_poi', \n",
    "                 'loan_advances', 'expenses', 'from_poi_to_this_person_ratio', 'director_fees', \n",
    "                 'deferral_payments', 'restricted_stock_deferred']\n",
    "    \n",
    "algorithms = [\"Gaussian\", \"RandomForest\", \"AdaBoost\", \"KNeighbor\"]\n",
    "accuracy_values = []\n",
    "precision_values = []\n",
    "recall_values = []\n",
    "f1_values = []\n",
    "\n",
    "count = 0\n",
    "for algorithm in algorithms:\n",
    "    accuracy_values.append([])\n",
    "    precision_values.append([])\n",
    "    recall_values.append([])\n",
    "    f1_values.append([])\n",
    "    feature_no = []\n",
    "\n",
    "    i = 1\n",
    "    while i < len(features_list):\n",
    "        features_sublist = features_list[:i+1]\n",
    "\n",
    "        #Define classifiers\n",
    "        if algorithm == \"Gaussian\":\n",
    "            clf = GaussianNB()\n",
    "        elif algorithm == \"RandomForest\":\n",
    "            clf = RandomForestClassifier()\n",
    "        elif algorithm == \"AdaBoost\":\n",
    "            clf = AdaBoostClassifier()\n",
    "        elif algorithm == \"KNeighbor\":\n",
    "            clf = KNeighborsClassifier()\n",
    "        \n",
    "        dump_classifier_and_data(clf, data_dict, features_sublist)\n",
    "        clf_test, dataset_test, feature_list_test = load_classifier_and_data()\n",
    "        \n",
    "        accuracy, precision, recall, f1 = test_classifier(clf_test, dataset_test, feature_list_test, False)\n",
    "        accuracy_values[count].append(accuracy)\n",
    "        precision_values[count].append(precision)\n",
    "        recall_values[count].append(recall)\n",
    "        f1_values[count].append(f1)\n",
    "        \n",
    "        feature_no.append(i)\n",
    "        i += 1\n",
    "    \n",
    "    accuracy_plot = plt.plot( feature_no, accuracy_values[count], color = \"r\", label=\"accuracy\")\n",
    "    precision_plot = plt.plot( feature_no, precision_values[count], color = \"g\", label=\"precision\")\n",
    "    recall_plot = plt.plot( feature_no, recall_values[count], color = \"b\", label=\"recall\")\n",
    "    f1_plot = plt.plot( feature_no, f1_values[count], color = \"black\", label=\"F1\")\n",
    "    plt.xlabel(\"# of Features\")\n",
    "    plt.ylabel(\"Scores\")\n",
    "    plt.title(algorithm)\n",
    "    plt.legend(bbox_to_anchor=(0., -0.25, 1., .102), loc=3, ncol=4, mode=\"expand\", borderaxespad=0.)\n",
    "    plt.show()\n",
    "    \n",
    "    count += 1\n"
   ]
  },
  {
   "cell_type": "markdown",
   "metadata": {},
   "source": [
    "The graphs above illustrate that each algorithm is optimal at different number of features (excluding poi as a feature):\n",
    "1. Gaussian: 6 features\n",
    "2. RandomForest: 3 features\n",
    "3. AdaBoost: 7 features\n",
    "4. KNeighbors: 5 features\n",
    "\n",
    "In order to select which was the best algorithm, however, I had to consider the objective of the exercise. If the objective was to identify as many POI as possible even at the expense of possibly identifying non-POI persons as POI (i.e. false positive), then a high precision value was not priority. However, if the objective was to narrow down the list of suspects and not accidentally investigate persons of no interest at the expense of possibly identifying some POI as non-POI (i.e. false negative), then a high recall value  was not priority. Eventually, I deemed both recall and precision to be of equal value and thus decided to use the F1 score to decide which algorithm to use:"
   ]
  },
  {
   "cell_type": "code",
   "execution_count": 9,
   "metadata": {},
   "outputs": [
    {
     "name": "stdout",
     "output_type": "stream",
     "text": [
      "ALGORITHM        # OF FEATURES       F1 SCORE\n",
      "-------------------------------------------------\n",
      "Gaussian              6               0.4412\n",
      "RandomForest          3               0.4129\n",
      "AdaBoost              7               0.3155\n",
      "KNeighbor             5               0.3918\n",
      "\n",
      "Gaussian Naive Bayes\n",
      "Number of features:  6\n",
      "Accuracy:   0.8605\n",
      "Precision:  0.5157\n",
      "Recall:     0.3855\n"
     ]
    }
   ],
   "source": [
    "optimum_feature_no = [6, 3, 7, 5]\n",
    "\n",
    "print \"ALGORITHM\", \" \"*(15-len(\"ALGORITHM\")), \"# OF FEATURES\", \" \"*(18-len(\"# OF FEATURES\")), \"F1 SCORE\"\n",
    "print \"-------------------------------------------------\"\n",
    "for i, algorithm in enumerate(algorithms):\n",
    "    features = optimum_feature_no[i]\n",
    "    print algorithm, \" \"*(20-len(algorithm)), features, \" \"*13, round(f1_values[i][features-1],4)\n",
    "    \n",
    "print \"\"\n",
    "print \"Gaussian Naive Bayes\"\n",
    "index = 0\n",
    "print \"Number of features: \", optimum_feature_no[index]\n",
    "print \"Accuracy:  \", round(accuracy_values[index][optimum_feature_no[index]-1],4)\n",
    "print \"Precision: \", round(precision_values[index][optimum_feature_no[index]-1],4)\n",
    "print \"Recall:    \", round(recall_values[index][optimum_feature_no[index]-1],4)"
   ]
  },
  {
   "cell_type": "markdown",
   "metadata": {},
   "source": [
    "Based on the F1 scores, I decided to select the Gaussian Naive Bayes algorithm, which had an accuracy of 0.8605, precision value of 0.5157, and recall value of 0.3855 when 6 features are used to create the training and testing datasets. "
   ]
  },
  {
   "cell_type": "markdown",
   "metadata": {},
   "source": [
    "### Fine Tuning\n",
    "\n",
    "Once an algorithm had been selected, the next step was to fine tune the parameters of the chosen algorithm in order to extract its best performance. Because the GaussianNB classifier does not have any parameters, no fine tuning was required for this particular algorithm. However as practice, I used GridSearchCV on the KNeighbor classifier to see if I could fine tune the parameters to obtain a better performance: "
   ]
  },
  {
   "cell_type": "code",
   "execution_count": 10,
   "metadata": {},
   "outputs": [
    {
     "name": "stdout",
     "output_type": "stream",
     "text": [
      "Before Fine Tuning Parameters:\n",
      "\n",
      "KNeighbor\n",
      "Number of features:  5\n",
      "Accuracy:   0.8749\n",
      "Precision:  0.6416\n",
      "Recall:     0.282\n",
      "F1 score:   0.3918\n"
     ]
    }
   ],
   "source": [
    "print \"Before Fine Tuning Parameters:\"\n",
    "print \"\"\n",
    "print \"KNeighbor\"\n",
    "index = 3\n",
    "print \"Number of features: \", optimum_feature_no[index]\n",
    "print \"Accuracy:  \", round(accuracy_values[index][optimum_feature_no[index]-1],4)\n",
    "print \"Precision: \", round(precision_values[index][optimum_feature_no[index]-1],4)\n",
    "print \"Recall:    \", round(recall_values[index][optimum_feature_no[index]-1],4)\n",
    "print \"F1 score:  \", round(f1_values[index][optimum_feature_no[index]-1],4)"
   ]
  },
  {
   "cell_type": "code",
   "execution_count": 15,
   "metadata": {},
   "outputs": [
    {
     "name": "stdout",
     "output_type": "stream",
     "text": [
      "After Fine Tuning Parameters:\n",
      "\n",
      "KNeighbor\n",
      "Number of features:  5\n",
      "Accuracy:   0.8697\n",
      "Precision:  0.656\n",
      "Recall:     0.185\n",
      "F1 score:   0.2886\n"
     ]
    }
   ],
   "source": [
    "from sklearn.grid_search import GridSearchCV\n",
    "\n",
    "features_sublist = features_list[:optimum_feature_no[index]+1]\n",
    "\n",
    "parameters = {\"n_neighbors\":[4, 5, 6], \"leaf_size\":[20, 30, 40], \"algorithm\":[\"auto\", \"ball_tree\", \"brute\"]}\n",
    "clf_kn = KNeighborsClassifier()\n",
    "clf = GridSearchCV(clf_kn, parameters)\n",
    "\n",
    "dump_classifier_and_data(clf, data_dict, features_sublist)\n",
    "clf_test, dataset_test, feature_list_test = load_classifier_and_data()\n",
    "\n",
    "accuracy, precision, recall, f1 = test_classifier(clf_test, dataset_test, feature_list_test, False)\n",
    "print \"After Fine Tuning Parameters:\"\n",
    "print \"\"\n",
    "print \"KNeighbor\"\n",
    "index = 3\n",
    "print \"Number of features: \", optimum_feature_no[index]\n",
    "print \"Accuracy:  \", round(accuracy,4)\n",
    "print \"Precision: \", round(precision,4)\n",
    "print \"Recall:    \", round(recall,4)\n",
    "print \"F1 score:  \", round(f1,4)"
   ]
  },
  {
   "cell_type": "markdown",
   "metadata": {},
   "source": [
    "The precision improved marginally from 0.64 to 0.66 but the recall decreased from 0.28 to 0.19, causing the F1 score to decline from 0.39 to 0.29. This, however, shows that the precision of a model can be improved by simply tweaking a classifier's parameters."
   ]
  },
  {
   "cell_type": "markdown",
   "metadata": {},
   "source": [
    "### Cross validation\n",
    "\n",
    "Validation is the process of dividing data into two segments, one dataset to train the model and the other dataset to test the model. The purpose of doing this is to avoid overfitting where the algorithm is only able to predict based on the training dataset and is unable to generalize when given untrained data. For this project, the Stratified Shuffle Split was used to randomly create training and testing datasets."
   ]
  },
  {
   "cell_type": "markdown",
   "metadata": {},
   "source": [
    "### Conclusion\n",
    "\n",
    "In conclusion, based on F1 scoring, the Gaussian Naive Bayes algorithm was chosen as the best model to best identify persons of interest in the Enron fraud case. To simplify the analysis, only the following 6 features were selected to train and test the model as it was found these 6 features produced the optimum performance in the Gaussian Naive Bayes algorithm:\n",
    "1. Exercised stock options\n",
    "2. Total stock value\n",
    "3. Bonus\n",
    "4. Salary\n",
    "5. Ratio of email messages from person to POI\n",
    "6. Deferred income\n",
    "\n",
    "With a precision of 51.6% and recall value of 38.6%, this means that 51.6% of the time, when the model predicts a POI, this person is indeed a POI and 38.6% of the time, the model can correctly identifying a POI. "
   ]
  },
  {
   "cell_type": "code",
   "execution_count": 12,
   "metadata": {},
   "outputs": [],
   "source": [
    "clf = GaussianNB()\n",
    "features_list = ['poi', 'exercised_stock_options', 'total_stock_value', 'bonus', \n",
    "                 'salary', 'from_this_person_to_poi_ratio', 'deferred_income']\n",
    "\n",
    "dump_classifier_and_data(clf, data_dict, features_list)"
   ]
  }
 ],
 "metadata": {
  "kernelspec": {
   "display_name": "Python 2",
   "language": "python",
   "name": "python2"
  },
  "language_info": {
   "codemirror_mode": {
    "name": "ipython",
    "version": 2
   },
   "file_extension": ".py",
   "mimetype": "text/x-python",
   "name": "python",
   "nbconvert_exporter": "python",
   "pygments_lexer": "ipython2",
   "version": "2.7.13"
  }
 },
 "nbformat": 4,
 "nbformat_minor": 2
}
